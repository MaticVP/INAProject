{
 "cells": [
  {
   "cell_type": "markdown",
   "id": "d4fa645d",
   "metadata": {},
   "source": [
    "# SocioPatterns Lyon School network\n",
    "\n",
    "- source: http://www.sociopatterns.org/datasets/primary-school-temporal-network-data/\n",
    "- also some additional stuff that one of the main guys in temp nets (Peter Holme) did with this dataset: https://petterhol.me/2021/06/19/some-temporal-network-visualizations/\n",
    "\n",
    "\n",
    "\n",
    "We are basically using two files, one that contains edges with timestamps (in seconds, we can maybe transform this into datetime but idk when it was measured or just make it so that it starts at 0) and the other with metadata (labels of nodes, most are in some school class with a cryptic name but there's also teachers). We can use these two files in whatever way necessary for the actual code but I will give an example ussage further below."
   ]
  },
  {
   "cell_type": "markdown",
   "id": "acb816d7",
   "metadata": {},
   "source": [
    "## Temporal Network Analysis and Community Detection:\n",
    "\n",
    "#### Teneto:\n",
    "\n",
    "Why: Teneto is specifically designed for temporal network analysis and can directly work with temporal edge lists (contact sequences). It offers various temporal metrics and utilities that could be useful for building up to community detection or implementing simpler versions.\n",
    "Loading: You'd typically pass your pandas DataFrame (with columns like 'u', 'v', 't') or a NumPy array to its functions or TemporalNetwork object.\n",
    "Community Detection: While Teneto might not have a vast suite of ready-to-use complex temporal community detection algorithms, its tools for handling temporal data can support their implementation or can be used for snapshot-based approaches. (Check its latest documentation for specific community detection features).\n",
    "\n",
    "#### DyNetX (Dynamic Network eXperiments):\n",
    "\n",
    "Why: DyNetX is explicitly built for dynamic/temporal networks and often includes implementations of several temporal community detection algorithms and dynamic network metrics. It supports various representations like interaction graphs (from contact sequences) and snapshot graphs.\n",
    "Loading: You can create an InteractionGraph from your list of contacts.\n",
    "Python\n",
    "\n",
    "<!-- # Conceptual DyNetX loading\n",
    "# from dynetx.classes import InteractionGraph\n",
    "# G_temporal = InteractionGraph()\n",
    "# for t, u, v in contacts_data: # contacts_data is your list of (t,u,v)\n",
    "#     G_temporal.add_interaction(u, v, t) -->\n",
    "\n",
    "\n",
    "#### Community Detection: DyNetX is more likely to have built-in algorithms for temporal community detection that you can call directly (e.g., generalized modularity approaches, label propagation on temporal networks). This would be a strong candidate if you want to showcase a \"true\" temporal community detection method without implementing it from scratch.\n",
    "\n",
    "\n",
    "#### Pathpy:\n",
    "\n",
    "Why: Powerful for path-based analyses, higher-order models, and has good support for temporal networks. It might have community detection capabilities or provide building blocks.\n",
    "Loading: It has its own TemporalNetwork class that can be populated from edge lists.\n",
    "\n",
    "\n",
    "#### Libraries for Snapshot-Based Approaches:\n",
    "\n",
    "If you opt for a snapshot-based demonstration (which is easier to explain but less \"purely temporal\"):\n",
    "NetworkX or igraph (Python interface): To create and analyze static graph snapshots for each time window.\n",
    "python-louvain (for Louvain algorithm with NetworkX) or igraph's built-in community detection for the static analysis of snapshots.\n",
    "Custom code or a library like cdlib (if it supports temporal aspects or snapshot matching) would be needed for tracking communities across snapshots.\n",
    "\n",
    "#### Recommendation for the Handout:\n",
    "\n",
    "For demonstrating temporal community detection, using DyNetX would likely be the most straightforward approach if it contains suitable built-in algorithms. It's designed for this purpose. Alternatively, Teneto is excellent for overall temporal network handling and could support a custom or simpler community detection demonstration. pandas will be your first step for data loading and preparation in any case.\n",
    "\n",
    "When loading, the primary format will be the list of (timestamp, node_i, node_j) contacts. This can then be fed into the chosen library to construct its specific temporal network object."
   ]
  },
  {
   "cell_type": "markdown",
   "id": "9934778d",
   "metadata": {},
   "source": []
  },
  {
   "cell_type": "markdown",
   "id": "f50091f3",
   "metadata": {
    "vscode": {
     "languageId": "plaintext"
    }
   },
   "source": [
    "# Basic extraction of data and loading as network"
   ]
  },
  {
   "cell_type": "code",
   "execution_count": null,
   "id": "a0c1c656",
   "metadata": {},
   "outputs": [
    {
     "name": "stdout",
     "output_type": "stream",
     "text": [
      "Metadata sample:\n",
      "   node label\n",
      "0  1711   cpa\n",
      "1  1752   cpa\n",
      "2  1757   cpa\n",
      "3  1759   cpa\n",
      "4  1760   cpa\n",
      "\n",
      "Temporal edges sample:\n",
      "    time     u     v\n",
      "0  31220  1558  1567\n",
      "1  31220  1560  1570\n",
      "2  31220  1567  1574\n",
      "3  31220  1632  1818\n",
      "4  31220  1632  1866\n"
     ]
    }
   ],
   "source": [
    "# Imports and data loading\n",
    "import pandas as pd\n",
    "import networkx as nx\n",
    "import dynetx as dn\n",
    "from community import community_louvain  # python-louvain\n",
    "\n",
    "# Load node metadata and temporal edges\n",
    "data_nodes = pd.read_csv('metadata_LyonSchool.dat', sep='\\t', names=['node', 'label'])\n",
    "data_edges = pd.read_csv('tij_LyonSchool.dat', sep='\\t', names=['time', 'u', 'v'])\n",
    "\n",
    "print(\"Metadata sample:\")\n",
    "print(data_nodes.head())\n",
    "print(\"\\nTemporal edges sample:\")\n",
    "print(data_edges.head())"
   ]
  }
 ],
 "metadata": {
  "kernelspec": {
   "display_name": "Python 3",
   "language": "python",
   "name": "python3"
  },
  "language_info": {
   "codemirror_mode": {
    "name": "ipython",
    "version": 3
   },
   "file_extension": ".py",
   "mimetype": "text/x-python",
   "name": "python",
   "nbconvert_exporter": "python",
   "pygments_lexer": "ipython3",
   "version": "3.12.0"
  }
 },
 "nbformat": 4,
 "nbformat_minor": 5
}
